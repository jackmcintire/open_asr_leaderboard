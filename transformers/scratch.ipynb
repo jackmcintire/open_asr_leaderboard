{
 "cells": [
  {
   "cell_type": "code",
   "execution_count": 4,
   "id": "9d6609d3",
   "metadata": {},
   "outputs": [],
   "source": [
    "from datasets import load_dataset, Audio\n",
    "import sys\n",
    "import os\n",
    "sys.path.insert(0, '/home/ubuntu/jtm/open_asr_leaderboard')\n",
    "\n",
    "from normalizer.normalizer import EnglishTextNormalizer"
   ]
  },
  {
   "cell_type": "code",
   "execution_count": 6,
   "id": "a3eba590",
   "metadata": {},
   "outputs": [],
   "source": [
    "ds = load_dataset(\"hf-audio/esb-datasets-test-only-sorted\", \"earnings22\", split=\"test\")"
   ]
  },
  {
   "cell_type": "code",
   "execution_count": 26,
   "id": "6e9d5461",
   "metadata": {},
   "outputs": [
    {
     "data": {
      "text/plain": [
       "['4432298/114.wav']"
      ]
     },
     "execution_count": 26,
     "metadata": {},
     "output_type": "execute_result"
    }
   ],
   "source": [
    "hits = []\n",
    "normalizer = EnglishTextNormalizer()\n",
    "ts = normalizer('am i at all in the right ball park')\n",
    "for x in ds:\n",
    "    if normalizer(x['text']) == ts:\n",
    "        hits.append(x['id'])\n",
    "len(hits)\n",
    "hits"
   ]
  }
 ],
 "metadata": {
  "kernelspec": {
   "display_name": ".venv",
   "language": "python",
   "name": "python3"
  },
  "language_info": {
   "codemirror_mode": {
    "name": "ipython",
    "version": 3
   },
   "file_extension": ".py",
   "mimetype": "text/x-python",
   "name": "python",
   "nbconvert_exporter": "python",
   "pygments_lexer": "ipython3",
   "version": "3.10.12"
  }
 },
 "nbformat": 4,
 "nbformat_minor": 5
}
