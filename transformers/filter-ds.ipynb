{
 "cells": [
  {
   "cell_type": "code",
   "execution_count": 1,
   "id": "edeea14f",
   "metadata": {},
   "outputs": [
    {
     "name": "stderr",
     "output_type": "stream",
     "text": [
      "/home/ubuntu/jtm/whisper-tune/.venv/lib/python3.10/site-packages/tqdm/auto.py:21: TqdmWarning: IProgress not found. Please update jupyter and ipywidgets. See https://ipywidgets.readthedocs.io/en/stable/user_install.html\n",
      "  from .autonotebook import tqdm as notebook_tqdm\n"
     ]
    }
   ],
   "source": [
    "import sys, pathlib\n",
    "ROOT = pathlib.Path().resolve().parent\n",
    "sys.path.append(str(ROOT))\n",
    "\n",
    "import json\n",
    "import os\n",
    "\n",
    "from normalizer.data_utils import normalizer as data_utils_normalizer\n",
    "normalizer = data_utils_normalizer\n",
    "\n",
    "# Cell 1\n",
    "from datasets import load_dataset, Dataset, DatasetDict, Value\n",
    "from pathlib import Path\n",
    "import csv, re\n"
   ]
  },
  {
   "cell_type": "code",
   "execution_count": 3,
   "id": "456190d4",
   "metadata": {},
   "outputs": [],
   "source": [
    "from datasets import load_dataset, DatasetDict, Value\n",
    "from pathlib import Path\n",
    "import csv, re\n",
    "\n",
    "SPECIAL_WORDS_PATH = \"/home/ubuntu/jtm/open_asr_leaderboard/transformers/global_dict_500.csv\"\n",
    "\n",
    "with open(SPECIAL_WORDS_PATH, \"r\", encoding=\"utf-8\") as f:\n",
    "    special_words = [line.strip().rstrip(\",\") for line in f if line.strip()]\n",
    "    normalized_special_words = {normalizer(word) for word in special_words}"
   ]
  },
  {
   "cell_type": "code",
   "execution_count": 4,
   "id": "1a98817c",
   "metadata": {},
   "outputs": [],
   "source": [
    "def has_special_word(x):\n",
    "    text = normalizer(x[\"text\"])\n",
    "    words_in_text = set(text.split())\n",
    "    matched_words = words_in_text.intersection(normalized_special_words)\n",
    "    return len(matched_words) > 0"
   ]
  },
  {
   "cell_type": "code",
   "execution_count": 5,
   "id": "65a0d847",
   "metadata": {},
   "outputs": [],
   "source": [
    "ds_stream = load_dataset(\n",
    "    \"aquavoice/cleaned_dataset_full_2x_en_resplit\",\n",
    "    split=\"test\",\n",
    "    streaming=False,          # <- important\n",
    ")\n"
   ]
  },
  {
   "cell_type": "code",
   "execution_count": 6,
   "id": "18bb454e",
   "metadata": {},
   "outputs": [
    {
     "name": "stderr",
     "output_type": "stream",
     "text": [
      "Filter: 100%|██████████| 36894/36894 [01:43<00:00, 356.79 examples/s]\n"
     ]
    },
    {
     "data": {
      "text/plain": [
       "Dataset({\n",
       "    features: ['audio', 'text', 'session_id', 'speaker_id', 'duration', 'whisper_text', 'elevenlabs_text', 'speechmatics_text', 'confidence', 'language'],\n",
       "    num_rows: 9198\n",
       "})"
      ]
     },
     "execution_count": 6,
     "metadata": {},
     "output_type": "execute_result"
    }
   ],
   "source": [
    "filtered_ds = ds_stream.filter(has_special_word)\n",
    "filtered_ds"
   ]
  },
  {
   "cell_type": "code",
   "execution_count": null,
   "id": "0f0b11dc",
   "metadata": {},
   "outputs": [
    {
     "name": "stderr",
     "output_type": "stream",
     "text": [
      "Filter: 100%|██████████| 36894/36894 [01:43<00:00, 356.79 examples/s]\n"
     ]
    },
    {
     "data": {
      "text/plain": [
       "Dataset({\n",
       "    features: ['audio', 'text', 'session_id', 'speaker_id', 'duration', 'whisper_text', 'elevenlabs_text', 'speechmatics_text', 'confidence', 'language'],\n",
       "    num_rows: 9198\n",
       "})"
      ]
     },
     "metadata": {},
     "output_type": "display_data"
    }
   ],
   "source": [
    "filtered_ds = ds_stream.filter(has_special_word)\n",
    "filtered_ds"
   ]
  },
  {
   "cell_type": "code",
   "execution_count": null,
   "id": "108c64f4",
   "metadata": {},
   "outputs": [
    {
     "data": {
      "text/plain": [
       "Dataset({\n",
       "    features: ['audio', 'text', 'session_id', 'speaker_id', 'duration', 'whisper_text', 'elevenlabs_text', 'speechmatics_text', 'confidence', 'language'],\n",
       "    num_rows: 9198\n",
       "})"
      ]
     },
     "execution_count": 7,
     "metadata": {},
     "output_type": "execute_result"
    }
   ],
   "source": []
  },
  {
   "cell_type": "code",
   "execution_count": 8,
   "id": "aac1e094",
   "metadata": {},
   "outputs": [
    {
     "data": {
      "text/plain": [
       "DatasetDict({\n",
       "    test: Dataset({\n",
       "        features: ['audio', 'text', 'session_id', 'speaker_id', 'duration', 'whisper_text', 'elevenlabs_text', 'speechmatics_text', 'confidence', 'language'],\n",
       "        num_rows: 9198\n",
       "    })\n",
       "})"
      ]
     },
     "execution_count": 8,
     "metadata": {},
     "output_type": "execute_result"
    }
   ],
   "source": [
    "new_ds_name = \"jmci/aispeak-v1\"\n",
    "to_push = DatasetDict({\"test\": filtered_ds})\n",
    "to_push"
   ]
  },
  {
   "cell_type": "code",
   "execution_count": 9,
   "id": "9d372667",
   "metadata": {},
   "outputs": [
    {
     "name": "stderr",
     "output_type": "stream",
     "text": [
      "Map: 100%|██████████| 767/767 [00:00<00:00, 851.72 examples/s]?it/s]\n",
      "Creating parquet from Arrow format: 100%|██████████| 8/8 [00:02<00:00,  3.05ba/s]\n",
      "Map: 100%|██████████| 767/767 [00:01<00:00, 544.08 examples/s]07, 22.52s/it]\n",
      "Creating parquet from Arrow format: 100%|██████████| 8/8 [00:01<00:00,  5.45ba/s]\n",
      "Map: 100%|██████████| 767/767 [00:01<00:00, 560.23 examples/s]42, 22.22s/it]\n",
      "Creating parquet from Arrow format: 100%|██████████| 8/8 [00:01<00:00,  6.29ba/s]\n",
      "Map: 100%|██████████| 767/767 [00:01<00:00, 677.10 examples/s]20, 22.24s/it]\n",
      "Creating parquet from Arrow format: 100%|██████████| 8/8 [00:01<00:00,  6.22ba/s]\n",
      "Map: 100%|██████████| 767/767 [00:00<00:00, 1434.91 examples/s]6, 22.03s/it]\n",
      "Creating parquet from Arrow format: 100%|██████████| 8/8 [00:01<00:00,  5.28ba/s]\n",
      "Map: 100%|██████████| 767/767 [00:00<00:00, 872.04 examples/s]47, 23.87s/it]\n",
      "Creating parquet from Arrow format: 100%|██████████| 8/8 [00:01<00:00,  6.35ba/s]\n",
      "Map: 100%|██████████| 766/766 [00:00<00:00, 879.26 examples/s] 5, 22.52s/it]\n",
      "Creating parquet from Arrow format: 100%|██████████| 8/8 [00:01<00:00,  6.11ba/s]\n",
      "Map: 100%|██████████| 766/766 [00:00<00:00, 1471.37 examples/s]7, 21.47s/it]\n",
      "Creating parquet from Arrow format: 100%|██████████| 8/8 [00:01<00:00,  6.17ba/s]\n",
      "Map: 100%|██████████| 766/766 [00:00<00:00, 1556.64 examples/s]6, 21.67s/it]\n",
      "Creating parquet from Arrow format: 100%|██████████| 8/8 [00:01<00:00,  6.58ba/s]\n",
      "Map: 100%|██████████| 766/766 [00:00<00:00, 1496.27 examples/s]3, 21.10s/it]\n",
      "Creating parquet from Arrow format: 100%|██████████| 8/8 [00:01<00:00,  6.18ba/s]\n",
      "Map: 100%|██████████| 766/766 [00:00<00:00, 1483.32 examples/s]45, 22.90s/it]\n",
      "Creating parquet from Arrow format: 100%|██████████| 8/8 [00:01<00:00,  6.55ba/s]\n",
      "Map: 100%|██████████| 766/766 [00:00<00:00, 1547.23 examples/s]21, 21.54s/it]\n",
      "Creating parquet from Arrow format: 100%|██████████| 8/8 [00:01<00:00,  6.59ba/s]\n",
      "Uploading the dataset shards: 100%|██████████| 12/12 [04:22<00:00, 21.90s/it]\n"
     ]
    },
    {
     "data": {
      "text/plain": [
       "CommitInfo(commit_url='https://huggingface.co/datasets/jmci/aispeak-v1/commit/b6aa0d0232bf699059bba795b0b3c42e9c4ec59e', commit_message='Upload dataset', commit_description='', oid='b6aa0d0232bf699059bba795b0b3c42e9c4ec59e', pr_url=None, repo_url=RepoUrl('https://huggingface.co/datasets/jmci/aispeak-v1', endpoint='https://huggingface.co', repo_type='dataset', repo_id='jmci/aispeak-v1'), pr_revision=None, pr_num=None)"
      ]
     },
     "execution_count": 9,
     "metadata": {},
     "output_type": "execute_result"
    }
   ],
   "source": [
    "to_push.push_to_hub(new_ds_name, private=True, max_shard_size=\"500MB\")"
   ]
  }
 ],
 "metadata": {
  "kernelspec": {
   "display_name": ".venv",
   "language": "python",
   "name": "python3"
  },
  "language_info": {
   "codemirror_mode": {
    "name": "ipython",
    "version": 3
   },
   "file_extension": ".py",
   "mimetype": "text/x-python",
   "name": "python",
   "nbconvert_exporter": "python",
   "pygments_lexer": "ipython3",
   "version": "3.10.12"
  }
 },
 "nbformat": 4,
 "nbformat_minor": 5
}
